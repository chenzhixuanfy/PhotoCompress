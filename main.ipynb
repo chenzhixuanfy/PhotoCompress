{
 "cells": [
  {
   "cell_type": "markdown",
   "metadata": {},
   "source": [
    "保持图片分辨率和目录结构，进行批量有损压缩，压缩后的文件保存在新的文件夹下\n",
    "\n",
    "注：\n",
    "1. quality相同的多次压缩等效于单次压缩\n",
    "2. 压缩比裁切效果好，裁切容易降低图片的解析力"
   ]
  },
  {
   "cell_type": "code",
   "execution_count": 1,
   "metadata": {},
   "outputs": [],
   "source": [
    "from PIL import Image\n",
    "import os"
   ]
  },
  {
   "cell_type": "code",
   "execution_count": 2,
   "metadata": {},
   "outputs": [],
   "source": [
    "def compress_single_photo(input_path, output_path):\n",
    "    # 打开原始图像\n",
    "    with Image.open(input_path) as img:\n",
    "        # # 调整图像大小\n",
    "        # resized_img = img.resize((new_width, new_height), Image.LANCZOS)\n",
    "        # # 保存调整后的图像，保持高质量\n",
    "        # resized_img.save(output_path, quality=50)\n",
    "        img.save(output_path, quality=50) # quality最高100，取50时体积显著减小，但是几乎不影响解析力"
   ]
  },
  {
   "cell_type": "code",
   "execution_count": 3,
   "metadata": {},
   "outputs": [],
   "source": [
    "def PhotoCompress(input_dir, output_dir):\n",
    "    for root, dirs, files in os.walk(input_dir):\n",
    "        for file in files:\n",
    "            if file.lower().endswith(('.jpg', '.jpeg')):\n",
    "                # 构建输入图像的完整路径\n",
    "                input_file_path = os.path.join(root, file)\n",
    "                \n",
    "                # 计算输出图像的相对路径\n",
    "                relative_path = os.path.relpath(root, input_dir)\n",
    "                output_subdir = os.path.join(output_dir, relative_path)\n",
    "                \n",
    "                # 创建输出子目录（如果不存在）\n",
    "                os.makedirs(output_subdir, exist_ok=True)\n",
    "                \n",
    "                # 构建输出图像的完整路径\n",
    "                output_file_path = os.path.join(output_subdir, file)\n",
    "                \n",
    "                # 处理图像\n",
    "                compress_single_photo(input_file_path, output_file_path)"
   ]
  },
  {
   "cell_type": "code",
   "execution_count": null,
   "metadata": {},
   "outputs": [],
   "source": [
    "# 在字符串前加上 r，表示这是一个原始字符串，其中的反斜杠不会被解释为转义字符\n",
    "input_directory = r\"input_directory\" # 待压缩图像根目录\n",
    "output_directory = r\"output_directory\" # 压缩后的图像根目录\n",
    "PhotoCompress(input_directory, output_directory)"
   ]
  },
  {
   "cell_type": "code",
   "execution_count": null,
   "metadata": {},
   "outputs": [],
   "source": []
  }
 ],
 "metadata": {
  "kernelspec": {
   "display_name": "d2l",
   "language": "python",
   "name": "python3"
  },
  "language_info": {
   "codemirror_mode": {
    "name": "ipython",
    "version": 3
   },
   "file_extension": ".py",
   "mimetype": "text/x-python",
   "name": "python",
   "nbconvert_exporter": "python",
   "pygments_lexer": "ipython3",
   "version": "3.9.18"
  }
 },
 "nbformat": 4,
 "nbformat_minor": 2
}
